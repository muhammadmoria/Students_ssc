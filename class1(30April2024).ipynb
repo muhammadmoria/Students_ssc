{
 "cells": [
  {
   "cell_type": "markdown",
   "id": "7f402974",
   "metadata": {},
   "source": [
    "# Python for Data Analytics"
   ]
  },
  {
   "cell_type": "markdown",
   "id": "3c2e6f14",
   "metadata": {},
   "source": [
    " - Numpy \n",
    " - Pandas \n",
    " - Matplotlib /Seaborn\n",
    " - Power Bi\n",
    " - Statistics\n",
    " - Predictive Analytics (ML )"
   ]
  },
  {
   "cell_type": "markdown",
   "id": "f16bedf4",
   "metadata": {},
   "source": [
    "# Numpy"
   ]
  },
  {
   "cell_type": "markdown",
   "id": "f002d5a8",
   "metadata": {},
   "source": [
    " - Numerical Python: \n",
    "                    - its an array written in C\n",
    " \n",
    "                    - Fast \n",
    "                     \n",
    "                    -  Vectorised Operation    "
   ]
  },
  {
   "cell_type": "markdown",
   "id": "992092d4",
   "metadata": {},
   "source": [
    "### Array Creation\n",
    "       - python list\n",
    "       - array()\n",
    "       - arange()\n",
    "       "
   ]
  },
  {
   "cell_type": "code",
   "execution_count": 1,
   "id": "afad7e5d",
   "metadata": {},
   "outputs": [],
   "source": [
    "import numpy as np"
   ]
  },
  {
   "cell_type": "code",
   "execution_count": 2,
   "id": "d2c5fd62",
   "metadata": {},
   "outputs": [],
   "source": [
    "arr = np.array([1,2,3,4,5,6,7,8,9,10])"
   ]
  },
  {
   "cell_type": "code",
   "execution_count": 5,
   "id": "ba98373a",
   "metadata": {},
   "outputs": [
    {
     "data": {
      "text/plain": [
       "array([ 1,  2,  3,  4,  5,  6,  7,  8,  9, 10])"
      ]
     },
     "execution_count": 5,
     "metadata": {},
     "output_type": "execute_result"
    }
   ],
   "source": [
    "arr"
   ]
  },
  {
   "cell_type": "code",
   "execution_count": 6,
   "id": "fdc17b57",
   "metadata": {},
   "outputs": [
    {
     "data": {
      "text/plain": [
       "10"
      ]
     },
     "execution_count": 6,
     "metadata": {},
     "output_type": "execute_result"
    }
   ],
   "source": [
    "# array size\n",
    "arr.size"
   ]
  },
  {
   "cell_type": "code",
   "execution_count": 8,
   "id": "809a119e",
   "metadata": {},
   "outputs": [
    {
     "data": {
      "text/plain": [
       "(10,)"
      ]
     },
     "execution_count": 8,
     "metadata": {},
     "output_type": "execute_result"
    }
   ],
   "source": [
    "# array shape\n",
    "arr.shape"
   ]
  },
  {
   "cell_type": "code",
   "execution_count": 9,
   "id": "c32496dd",
   "metadata": {},
   "outputs": [
    {
     "data": {
      "text/plain": [
       "1"
      ]
     },
     "execution_count": 9,
     "metadata": {},
     "output_type": "execute_result"
    }
   ],
   "source": [
    "arr.ndim"
   ]
  },
  {
   "cell_type": "code",
   "execution_count": 10,
   "id": "9db6d8cf",
   "metadata": {},
   "outputs": [
    {
     "data": {
      "text/plain": [
       "5"
      ]
     },
     "execution_count": 10,
     "metadata": {},
     "output_type": "execute_result"
    }
   ],
   "source": [
    "arr[4]"
   ]
  },
  {
   "cell_type": "code",
   "execution_count": 11,
   "id": "7215c49a",
   "metadata": {},
   "outputs": [
    {
     "data": {
      "text/plain": [
       "array([4, 5, 6, 7])"
      ]
     },
     "execution_count": 11,
     "metadata": {},
     "output_type": "execute_result"
    }
   ],
   "source": [
    "arr[3:7]"
   ]
  },
  {
   "cell_type": "code",
   "execution_count": 12,
   "id": "eefdfd89",
   "metadata": {},
   "outputs": [
    {
     "data": {
      "text/plain": [
       "array([10,  9,  8,  7,  6,  5])"
      ]
     },
     "execution_count": 12,
     "metadata": {},
     "output_type": "execute_result"
    }
   ],
   "source": [
    "arr[9:3:-1]"
   ]
  },
  {
   "cell_type": "markdown",
   "id": "f13acef1",
   "metadata": {},
   "source": [
    "# 2D-aRRAY"
   ]
  },
  {
   "cell_type": "code",
   "execution_count": 32,
   "id": "bd3c0e23",
   "metadata": {},
   "outputs": [],
   "source": [
    "arr2d = np.array([\n",
    "                   [1,2,3,4],\n",
    "                   [5,6,7,8],\n",
    "                   [9,10,11,12],\n",
    "                   [11,22,33,44]\n",
    "                 ])"
   ]
  },
  {
   "cell_type": "code",
   "execution_count": 33,
   "id": "11d2f055",
   "metadata": {},
   "outputs": [
    {
     "data": {
      "text/plain": [
       "array([[ 1,  2,  3,  4],\n",
       "       [ 5,  6,  7,  8],\n",
       "       [ 9, 10, 11, 12],\n",
       "       [11, 22, 33, 44]])"
      ]
     },
     "execution_count": 33,
     "metadata": {},
     "output_type": "execute_result"
    }
   ],
   "source": [
    "arr2d"
   ]
  },
  {
   "cell_type": "code",
   "execution_count": 34,
   "id": "f8f09660",
   "metadata": {},
   "outputs": [
    {
     "data": {
      "text/plain": [
       "16"
      ]
     },
     "execution_count": 34,
     "metadata": {},
     "output_type": "execute_result"
    }
   ],
   "source": [
    "arr2d.size"
   ]
  },
  {
   "cell_type": "code",
   "execution_count": 35,
   "id": "4d1b31ce",
   "metadata": {},
   "outputs": [
    {
     "data": {
      "text/plain": [
       "(4, 4)"
      ]
     },
     "execution_count": 35,
     "metadata": {},
     "output_type": "execute_result"
    }
   ],
   "source": [
    "arr2d.shape"
   ]
  },
  {
   "cell_type": "code",
   "execution_count": 36,
   "id": "1e4b24ea",
   "metadata": {},
   "outputs": [
    {
     "data": {
      "text/plain": [
       "2"
      ]
     },
     "execution_count": 36,
     "metadata": {},
     "output_type": "execute_result"
    }
   ],
   "source": [
    "arr2d.ndim"
   ]
  },
  {
   "cell_type": "code",
   "execution_count": 37,
   "id": "259b4066",
   "metadata": {},
   "outputs": [
    {
     "data": {
      "text/plain": [
       "array([[ 1,  2,  3,  4],\n",
       "       [ 5,  6,  7,  8],\n",
       "       [ 9, 10, 11, 12],\n",
       "       [11, 22, 33, 44]])"
      ]
     },
     "execution_count": 37,
     "metadata": {},
     "output_type": "execute_result"
    }
   ],
   "source": [
    "arr2d"
   ]
  },
  {
   "cell_type": "code",
   "execution_count": 38,
   "id": "6dd59f8d",
   "metadata": {},
   "outputs": [
    {
     "data": {
      "text/plain": [
       "11"
      ]
     },
     "execution_count": 38,
     "metadata": {},
     "output_type": "execute_result"
    }
   ],
   "source": [
    "arr2d[2][2]"
   ]
  },
  {
   "cell_type": "code",
   "execution_count": 39,
   "id": "9e2fa349",
   "metadata": {},
   "outputs": [
    {
     "data": {
      "text/plain": [
       "11"
      ]
     },
     "execution_count": 39,
     "metadata": {},
     "output_type": "execute_result"
    }
   ],
   "source": [
    "arr2d[2,2]"
   ]
  },
  {
   "cell_type": "markdown",
   "id": "cbe44f18",
   "metadata": {},
   "source": [
    "# Indexing and Slicing"
   ]
  },
  {
   "cell_type": "code",
   "execution_count": 49,
   "id": "a65e94f2",
   "metadata": {},
   "outputs": [
    {
     "data": {
      "text/plain": [
       "array([[ 1,  2,  3,  4],\n",
       "       [ 5,  6,  7,  8],\n",
       "       [ 9, 10, 11, 12],\n",
       "       [11, 22, 33, 44]])"
      ]
     },
     "execution_count": 49,
     "metadata": {},
     "output_type": "execute_result"
    }
   ],
   "source": [
    "arr2d"
   ]
  },
  {
   "cell_type": "code",
   "execution_count": 54,
   "id": "6a300925",
   "metadata": {},
   "outputs": [
    {
     "data": {
      "text/plain": [
       "array([[ 0,  1,  2,  3,  4,  5,  6,  7],\n",
       "       [ 8,  9, 10, 11, 12, 13, 14, 15],\n",
       "       [16, 17, 18, 19, 20, 21, 22, 23],\n",
       "       [24, 25, 26, 27, 28, 29, 30, 31],\n",
       "       [32, 33, 34, 35, 36, 37, 38, 39],\n",
       "       [40, 41, 42, 43, 44, 45, 46, 47],\n",
       "       [48, 49, 50, 51, 52, 53, 54, 55],\n",
       "       [56, 57, 58, 59, 60, 61, 62, 63]])"
      ]
     },
     "execution_count": 54,
     "metadata": {},
     "output_type": "execute_result"
    }
   ],
   "source": [
    "arr2d = np.arange(64).reshape(8,8)\n",
    "arr2d"
   ]
  },
  {
   "cell_type": "code",
   "execution_count": 55,
   "id": "165d948c",
   "metadata": {},
   "outputs": [
    {
     "data": {
      "text/plain": [
       "array([[29, 30],\n",
       "       [37, 38],\n",
       "       [45, 46]])"
      ]
     },
     "execution_count": 55,
     "metadata": {},
     "output_type": "execute_result"
    }
   ],
   "source": [
    "# indexing\n",
    "arr2d[3:6,5:7]"
   ]
  },
  {
   "cell_type": "code",
   "execution_count": 51,
   "id": "06ba0a25",
   "metadata": {},
   "outputs": [
    {
     "data": {
      "text/plain": [
       "9"
      ]
     },
     "execution_count": 51,
     "metadata": {},
     "output_type": "execute_result"
    }
   ],
   "source": [
    "arr2d[2,0]"
   ]
  },
  {
   "cell_type": "code",
   "execution_count": 52,
   "id": "194527b1",
   "metadata": {},
   "outputs": [
    {
     "data": {
      "text/plain": [
       "44"
      ]
     },
     "execution_count": 52,
     "metadata": {},
     "output_type": "execute_result"
    }
   ],
   "source": [
    "arr2d[3,3]"
   ]
  },
  {
   "cell_type": "code",
   "execution_count": 42,
   "id": "d0318cd7",
   "metadata": {},
   "outputs": [
    {
     "data": {
      "text/plain": [
       "array([[6]])"
      ]
     },
     "execution_count": 42,
     "metadata": {},
     "output_type": "execute_result"
    }
   ],
   "source": [
    "#[r,c]>>> [startrow:endrow   , startcol:endcol]\n",
    "arr2d[]"
   ]
  },
  {
   "cell_type": "code",
   "execution_count": 43,
   "id": "b848403a",
   "metadata": {},
   "outputs": [
    {
     "data": {
      "text/plain": [
       "array([[ 1,  2,  3,  4],\n",
       "       [ 5,  6,  7,  8],\n",
       "       [ 9, 10, 11, 12],\n",
       "       [11, 22, 33, 44]])"
      ]
     },
     "execution_count": 43,
     "metadata": {},
     "output_type": "execute_result"
    }
   ],
   "source": [
    "arr2d"
   ]
  },
  {
   "cell_type": "code",
   "execution_count": 44,
   "id": "17e98356",
   "metadata": {},
   "outputs": [
    {
     "data": {
      "text/plain": [
       "array([[ 6,  7],\n",
       "       [10, 11]])"
      ]
     },
     "execution_count": 44,
     "metadata": {},
     "output_type": "execute_result"
    }
   ],
   "source": [
    "arr2d[1:3,1:3]"
   ]
  },
  {
   "cell_type": "code",
   "execution_count": 46,
   "id": "348dba98",
   "metadata": {},
   "outputs": [
    {
     "data": {
      "text/plain": [
       "array([[10, 11]])"
      ]
     },
     "execution_count": 46,
     "metadata": {},
     "output_type": "execute_result"
    }
   ],
   "source": [
    "arr2d[2:3,1:3]"
   ]
  },
  {
   "cell_type": "code",
   "execution_count": 48,
   "id": "ad6eb706",
   "metadata": {},
   "outputs": [
    {
     "data": {
      "text/plain": [
       "array([[ 4],\n",
       "       [ 8],\n",
       "       [12],\n",
       "       [44]])"
      ]
     },
     "execution_count": 48,
     "metadata": {},
     "output_type": "execute_result"
    }
   ],
   "source": [
    "arr2d[:,3:]"
   ]
  },
  {
   "cell_type": "code",
   "execution_count": 56,
   "id": "6c75fcfd",
   "metadata": {},
   "outputs": [
    {
     "data": {
      "text/plain": [
       "array([[26, 27, 28, 29],\n",
       "       [34, 35, 36, 37],\n",
       "       [42, 43, 44, 45]])"
      ]
     },
     "execution_count": 56,
     "metadata": {},
     "output_type": "execute_result"
    }
   ],
   "source": [
    "arr2d[3:6,2:6]"
   ]
  },
  {
   "cell_type": "code",
   "execution_count": 57,
   "id": "27eda208",
   "metadata": {},
   "outputs": [
    {
     "data": {
      "text/plain": [
       "array([[12, 13],\n",
       "       [20, 21],\n",
       "       [28, 29],\n",
       "       [36, 37],\n",
       "       [44, 45],\n",
       "       [52, 53],\n",
       "       [60, 61]])"
      ]
     },
     "execution_count": 57,
     "metadata": {},
     "output_type": "execute_result"
    }
   ],
   "source": [
    "arr2d[1:,4:6]"
   ]
  },
  {
   "cell_type": "code",
   "execution_count": 58,
   "id": "f6a55863",
   "metadata": {},
   "outputs": [
    {
     "data": {
      "text/plain": [
       "array([[ 1,  2,  3,  4,  5,  6],\n",
       "       [ 9, 10, 11, 12, 13, 14],\n",
       "       [17, 18, 19, 20, 21, 22],\n",
       "       [25, 26, 27, 28, 29, 30],\n",
       "       [33, 34, 35, 36, 37, 38],\n",
       "       [41, 42, 43, 44, 45, 46],\n",
       "       [49, 50, 51, 52, 53, 54],\n",
       "       [57, 58, 59, 60, 61, 62]])"
      ]
     },
     "execution_count": 58,
     "metadata": {},
     "output_type": "execute_result"
    }
   ],
   "source": [
    "arr2d[:,1:7]"
   ]
  },
  {
   "cell_type": "code",
   "execution_count": 61,
   "id": "53485948",
   "metadata": {
    "scrolled": true
   },
   "outputs": [
    {
     "data": {
      "text/plain": [
       "array([[35, 36]])"
      ]
     },
     "execution_count": 61,
     "metadata": {},
     "output_type": "execute_result"
    }
   ],
   "source": [
    "arr2d[4:5,3:5]"
   ]
  },
  {
   "cell_type": "code",
   "execution_count": 62,
   "id": "522ee8cf",
   "metadata": {},
   "outputs": [
    {
     "data": {
      "text/plain": [
       "array([[ 0,  1,  2,  3,  4,  5,  6,  7],\n",
       "       [ 8,  9, 10, 11, 12, 13, 14, 15],\n",
       "       [16, 17, 18, 19, 20, 21, 22, 23],\n",
       "       [24, 25, 26, 27, 28, 29, 30, 31],\n",
       "       [32, 33, 34, 35, 36, 37, 38, 39],\n",
       "       [40, 41, 42, 43, 44, 45, 46, 47],\n",
       "       [48, 49, 50, 51, 52, 53, 54, 55],\n",
       "       [56, 57, 58, 59, 60, 61, 62, 63]])"
      ]
     },
     "execution_count": 62,
     "metadata": {},
     "output_type": "execute_result"
    }
   ],
   "source": [
    "arr2d"
   ]
  },
  {
   "cell_type": "code",
   "execution_count": 63,
   "id": "c06b5328",
   "metadata": {},
   "outputs": [],
   "source": [
    "arr2d[2,4] = 200"
   ]
  },
  {
   "cell_type": "code",
   "execution_count": 64,
   "id": "62b77e5a",
   "metadata": {},
   "outputs": [
    {
     "data": {
      "text/plain": [
       "array([[  0,   1,   2,   3,   4,   5,   6,   7],\n",
       "       [  8,   9,  10,  11,  12,  13,  14,  15],\n",
       "       [ 16,  17,  18,  19, 200,  21,  22,  23],\n",
       "       [ 24,  25,  26,  27,  28,  29,  30,  31],\n",
       "       [ 32,  33,  34,  35,  36,  37,  38,  39],\n",
       "       [ 40,  41,  42,  43,  44,  45,  46,  47],\n",
       "       [ 48,  49,  50,  51,  52,  53,  54,  55],\n",
       "       [ 56,  57,  58,  59,  60,  61,  62,  63]])"
      ]
     },
     "execution_count": 64,
     "metadata": {},
     "output_type": "execute_result"
    }
   ],
   "source": [
    "arr2d"
   ]
  },
  {
   "cell_type": "code",
   "execution_count": 67,
   "id": "340226a5",
   "metadata": {},
   "outputs": [],
   "source": [
    "a=arr2d[2,4]"
   ]
  },
  {
   "cell_type": "code",
   "execution_count": 68,
   "id": "162e194d",
   "metadata": {},
   "outputs": [
    {
     "data": {
      "text/plain": [
       "numpy.int32"
      ]
     },
     "execution_count": 68,
     "metadata": {},
     "output_type": "execute_result"
    }
   ],
   "source": [
    "type(a)"
   ]
  },
  {
   "cell_type": "markdown",
   "id": "b67173d1",
   "metadata": {},
   "source": [
    "# array 3d"
   ]
  },
  {
   "cell_type": "code",
   "execution_count": 74,
   "id": "d6beb770",
   "metadata": {},
   "outputs": [
    {
     "data": {
      "text/plain": [
       "array([[[ 0,  1,  2],\n",
       "        [ 3,  4,  5],\n",
       "        [ 6,  7,  8],\n",
       "        [ 9, 10, 11]],\n",
       "\n",
       "       [[12, 13, 14],\n",
       "        [15, 16, 17],\n",
       "        [18, 19, 20],\n",
       "        [21, 22, 23]]])"
      ]
     },
     "execution_count": 74,
     "metadata": {},
     "output_type": "execute_result"
    }
   ],
   "source": [
    "arr3d = np.arange(24).reshape(2,4,3) # (depth, row, col)\n",
    "arr3d"
   ]
  },
  {
   "cell_type": "code",
   "execution_count": 75,
   "id": "5cbce628",
   "metadata": {},
   "outputs": [
    {
     "data": {
      "text/plain": [
       "3"
      ]
     },
     "execution_count": 75,
     "metadata": {},
     "output_type": "execute_result"
    }
   ],
   "source": [
    "arr3d.ndim"
   ]
  },
  {
   "cell_type": "code",
   "execution_count": 76,
   "id": "ba52ac0f",
   "metadata": {},
   "outputs": [
    {
     "data": {
      "text/plain": [
       "16"
      ]
     },
     "execution_count": 76,
     "metadata": {},
     "output_type": "execute_result"
    }
   ],
   "source": [
    "arr3d[1,1,1]"
   ]
  },
  {
   "cell_type": "code",
   "execution_count": 77,
   "id": "76d3320b",
   "metadata": {},
   "outputs": [
    {
     "data": {
      "text/plain": [
       "20"
      ]
     },
     "execution_count": 77,
     "metadata": {},
     "output_type": "execute_result"
    }
   ],
   "source": [
    "arr3d[1,2,2]"
   ]
  },
  {
   "cell_type": "markdown",
   "id": "bf96f17e",
   "metadata": {},
   "source": [
    "# Vectorized Operation:"
   ]
  },
  {
   "cell_type": "code",
   "execution_count": 78,
   "id": "b3ce2d2d",
   "metadata": {},
   "outputs": [
    {
     "data": {
      "text/plain": [
       "array([ 1,  2,  3,  4,  5,  6,  7,  8,  9, 10])"
      ]
     },
     "execution_count": 78,
     "metadata": {},
     "output_type": "execute_result"
    }
   ],
   "source": [
    "arr"
   ]
  },
  {
   "cell_type": "code",
   "execution_count": 79,
   "id": "e989e5f0",
   "metadata": {},
   "outputs": [],
   "source": [
    "lst=[]\n",
    "for a in arr:\n",
    "    lst.append(a*10)"
   ]
  },
  {
   "cell_type": "code",
   "execution_count": 80,
   "id": "e49bdd35",
   "metadata": {},
   "outputs": [
    {
     "data": {
      "text/plain": [
       "[10, 20, 30, 40, 50, 60, 70, 80, 90, 100]"
      ]
     },
     "execution_count": 80,
     "metadata": {},
     "output_type": "execute_result"
    }
   ],
   "source": [
    "lst"
   ]
  },
  {
   "cell_type": "code",
   "execution_count": 81,
   "id": "d2b8504b",
   "metadata": {},
   "outputs": [
    {
     "data": {
      "text/plain": [
       "array([ 1,  2,  3,  4,  5,  6,  7,  8,  9, 10])"
      ]
     },
     "execution_count": 81,
     "metadata": {},
     "output_type": "execute_result"
    }
   ],
   "source": [
    "arr"
   ]
  },
  {
   "cell_type": "code",
   "execution_count": 82,
   "id": "dd7608b2",
   "metadata": {},
   "outputs": [
    {
     "data": {
      "text/plain": [
       "array([ 2,  4,  6,  8, 10, 12, 14, 16, 18, 20])"
      ]
     },
     "execution_count": 82,
     "metadata": {},
     "output_type": "execute_result"
    }
   ],
   "source": [
    "arr*2"
   ]
  },
  {
   "cell_type": "code",
   "execution_count": 83,
   "id": "415dbefd",
   "metadata": {},
   "outputs": [
    {
     "data": {
      "text/plain": [
       "array([[  0,   1,   2,   3,   4,   5,   6,   7],\n",
       "       [  8,   9,  10,  11,  12,  13,  14,  15],\n",
       "       [ 16,  17,  18,  19, 200,  21,  22,  23],\n",
       "       [ 24,  25,  26,  27,  28,  29,  30,  31],\n",
       "       [ 32,  33,  34,  35,  36,  37,  38,  39],\n",
       "       [ 40,  41,  42,  43,  44,  45,  46,  47],\n",
       "       [ 48,  49,  50,  51,  52,  53,  54,  55],\n",
       "       [ 56,  57,  58,  59,  60,  61,  62,  63]])"
      ]
     },
     "execution_count": 83,
     "metadata": {},
     "output_type": "execute_result"
    }
   ],
   "source": [
    "arr2d"
   ]
  },
  {
   "cell_type": "code",
   "execution_count": 84,
   "id": "7a12459e",
   "metadata": {},
   "outputs": [
    {
     "data": {
      "text/plain": [
       "array([[ 0. ,  0.1,  0.2,  0.3,  0.4,  0.5,  0.6,  0.7],\n",
       "       [ 0.8,  0.9,  1. ,  1.1,  1.2,  1.3,  1.4,  1.5],\n",
       "       [ 1.6,  1.7,  1.8,  1.9, 20. ,  2.1,  2.2,  2.3],\n",
       "       [ 2.4,  2.5,  2.6,  2.7,  2.8,  2.9,  3. ,  3.1],\n",
       "       [ 3.2,  3.3,  3.4,  3.5,  3.6,  3.7,  3.8,  3.9],\n",
       "       [ 4. ,  4.1,  4.2,  4.3,  4.4,  4.5,  4.6,  4.7],\n",
       "       [ 4.8,  4.9,  5. ,  5.1,  5.2,  5.3,  5.4,  5.5],\n",
       "       [ 5.6,  5.7,  5.8,  5.9,  6. ,  6.1,  6.2,  6.3]])"
      ]
     },
     "execution_count": 84,
     "metadata": {},
     "output_type": "execute_result"
    }
   ],
   "source": [
    "arr2d/10"
   ]
  },
  {
   "cell_type": "code",
   "execution_count": null,
   "id": "8bb1bdbd",
   "metadata": {},
   "outputs": [],
   "source": []
  }
 ],
 "metadata": {
  "kernelspec": {
   "display_name": "Python 3 (ipykernel)",
   "language": "python",
   "name": "python3"
  },
  "language_info": {
   "codemirror_mode": {
    "name": "ipython",
    "version": 3
   },
   "file_extension": ".py",
   "mimetype": "text/x-python",
   "name": "python",
   "nbconvert_exporter": "python",
   "pygments_lexer": "ipython3",
   "version": "3.11.5"
  }
 },
 "nbformat": 4,
 "nbformat_minor": 5
}
